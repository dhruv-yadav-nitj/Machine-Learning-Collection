{
 "cells": [
  {
   "cell_type": "code",
   "execution_count": 1,
   "id": "1b60d33d",
   "metadata": {},
   "outputs": [],
   "source": [
    "import torch\n",
    "import torch.nn as nn"
   ]
  },
  {
   "cell_type": "markdown",
   "id": "76d1ba22",
   "metadata": {},
   "source": [
    "**Resources**\n",
    "\n",
    "1. https://pytorch.org/tutorials/intermediate/parametrizations.html\n",
    "2. https://pytorch.org/docs/stable/generated/torch.nn.utils.parametrize.register_parametrization.html\n",
    "3. https://chatgpt.com/share/67fcda61-f324-8005-a335-c71066e41bcd"
   ]
  },
  {
   "cell_type": "markdown",
   "id": "170e57b0",
   "metadata": {},
   "source": [
    "Implementing a Linear Layer Equivalence"
   ]
  },
  {
   "cell_type": "code",
   "execution_count": null,
   "id": "b39ab41e",
   "metadata": {},
   "outputs": [],
   "source": [
    "# manually enforcing a parameter\n",
    "class LinearLayer(nn.Module):\n",
    "    def __init__(self, n_features):\n",
    "        super().__init__()\n",
    "        self.weight = nn.Parameter(torch.randn(n_features, n_features))  # https://chatgpt.com/share/67fcd15f-2044-8005-92fd-0755e399210c\n",
    "    def forward(self, x):\n",
    "        return torch.matmul(self.weight, x)"
   ]
  },
  {
   "cell_type": "markdown",
   "id": "98c9fed3",
   "metadata": {},
   "source": [
    "Introduction to Parametrization"
   ]
  },
  {
   "cell_type": "code",
   "execution_count": 10,
   "id": "374b6014",
   "metadata": {},
   "outputs": [],
   "source": [
    "class Symmetry(nn.Module):\n",
    "    def forward (self, x: torch.Tensor):\n",
    "        return x.triu() + x.triu(1).transpose(-1, -2)"
   ]
  },
  {
   "cell_type": "code",
   "execution_count": 11,
   "id": "e59dd3f8",
   "metadata": {},
   "outputs": [
    {
     "name": "stdout",
     "output_type": "stream",
     "text": [
      "weight torch.Size([3, 3])\n",
      "bias torch.Size([3])\n"
     ]
    }
   ],
   "source": [
    "layer = nn.Linear(3, 3)\n",
    "\n",
    "for name, param in layer.named_parameters():\n",
    "    print(name, param.shape)"
   ]
  },
  {
   "cell_type": "code",
   "execution_count": 12,
   "id": "1b39d7f3",
   "metadata": {},
   "outputs": [
    {
     "data": {
      "text/plain": [
       "ParametrizedLinear(\n",
       "  in_features=3, out_features=3, bias=True\n",
       "  (parametrizations): ModuleDict(\n",
       "    (weight): ParametrizationList(\n",
       "      (0): Symmetry()\n",
       "    )\n",
       "  )\n",
       ")"
      ]
     },
     "execution_count": 12,
     "metadata": {},
     "output_type": "execute_result"
    }
   ],
   "source": [
    "import torch.nn.utils.parametrize as P\n",
    "\n",
    "P.register_parametrization(layer, 'weight', Symmetry())"
   ]
  },
  {
   "cell_type": "code",
   "execution_count": 13,
   "id": "1eadeb62",
   "metadata": {},
   "outputs": [
    {
     "name": "stdout",
     "output_type": "stream",
     "text": [
      "tensor([[ 0.5218,  0.3776,  0.4783],\n",
      "        [ 0.3776, -0.2035, -0.4937],\n",
      "        [ 0.4783, -0.4937,  0.1725]], grad_fn=<AddBackward0>)\n"
     ]
    }
   ],
   "source": [
    "A = layer.weight\n",
    "print(A)"
   ]
  },
  {
   "cell_type": "code",
   "execution_count": null,
   "id": "57c9d5dc",
   "metadata": {},
   "outputs": [
    {
     "name": "stdout",
     "output_type": "stream",
     "text": [
      "tensor([0.5218, 0.3776, 0.4783], grad_fn=<UnbindBackward0>)\n",
      "tensor([ 0.3776, -0.2035, -0.4937], grad_fn=<UnbindBackward0>)\n",
      "tensor([ 0.4783, -0.4937,  0.1725], grad_fn=<UnbindBackward0>)\n"
     ]
    }
   ],
   "source": [
    "for param in layer.weight:  # accessing the parametrized weights\n",
    "    print(param)"
   ]
  },
  {
   "cell_type": "code",
   "execution_count": null,
   "id": "3cd46ed4",
   "metadata": {},
   "outputs": [
    {
     "name": "stdout",
     "output_type": "stream",
     "text": [
      "tensor([0.5218, 0.3776, 0.4783], grad_fn=<UnbindBackward0>)\n",
      "tensor([ 0.2867, -0.2035, -0.4937], grad_fn=<UnbindBackward0>)\n",
      "tensor([-0.5015, -0.0754,  0.1725], grad_fn=<UnbindBackward0>)\n"
     ]
    }
   ],
   "source": [
    "for param in layer.parametrizations.weight.original:  # accessing the origianal weights\n",
    "    print(param)"
   ]
  }
 ],
 "metadata": {
  "kernelspec": {
   "display_name": "venv",
   "language": "python",
   "name": "python3"
  },
  "language_info": {
   "codemirror_mode": {
    "name": "ipython",
    "version": 3
   },
   "file_extension": ".py",
   "mimetype": "text/x-python",
   "name": "python",
   "nbconvert_exporter": "python",
   "pygments_lexer": "ipython3",
   "version": "3.12.6"
  }
 },
 "nbformat": 4,
 "nbformat_minor": 5
}
